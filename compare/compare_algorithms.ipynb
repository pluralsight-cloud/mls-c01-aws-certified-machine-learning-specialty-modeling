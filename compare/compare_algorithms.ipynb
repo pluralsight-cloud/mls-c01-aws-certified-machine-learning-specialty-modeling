{
 "cells": [
  {
   "cell_type": "markdown",
   "id": "200b6b5c",
   "metadata": {},
   "source": [
    "![A Cloud Guru](acg_logo.png)\n",
    "<hr/>"
   ]
  },
  {
   "cell_type": "markdown",
   "id": "22eb019b",
   "metadata": {},
   "source": [
    "<center><h1>Comparing Machine Learning Algorithms on a Single Dataset using Amazon SageMaker</h1></center>"
   ]
  },
  {
   "cell_type": "markdown",
   "id": "7cb83bc8",
   "metadata": {},
   "source": [
    "# Introduction\n",
    "\n",
    "In this lab, you will learn how to import a dataset, split it into training and test data, initialize multiple algorithms, train them, predict for test data and compare the metrics against the test data."
   ]
  },
  {
   "cell_type": "markdown",
   "id": "e04404fd",
   "metadata": {},
   "source": [
    "# How to Use This Lab\n",
    "\n",
    "Most of the code is provided for you in this lab as our solution to the tasks presented. Some of the cells are left empty with a #TODO header and its your turn to fill in the empty code. You can always use our lab guide if you are stuck."
   ]
  },
  {
   "cell_type": "markdown",
   "id": "cd24c77c",
   "metadata": {},
   "source": [
    "# 1) Import the Libraries"
   ]
  },
  {
   "cell_type": "code",
   "execution_count": null,
   "id": "3bbd5171",
   "metadata": {},
   "outputs": [],
   "source": [
    "import pandas as pd\n",
    "from sklearn.model_selection import train_test_split\n",
    "from sklearn.datasets import fetch_california_housing\n",
    "from sklearn.model_selection import train_test_split\n",
    "from sklearn.linear_model import LinearRegression\n",
    "from sklearn.linear_model import Ridge\n",
    "from sklearn.ensemble import RandomForestRegressor\n",
    "from sklearn.metrics import mean_absolute_error, r2_score, root_mean_squared_error"
   ]
  },
  {
   "cell_type": "markdown",
   "id": "23f57c9e",
   "metadata": {},
   "source": [
    "# 2) Load the Dataset"
   ]
  },
  {
   "cell_type": "code",
   "execution_count": null,
   "id": "91c7c860",
   "metadata": {},
   "outputs": [],
   "source": [
    "# Load the Dataset and create feature and target variables\n",
    "california_housing = fetch_california_housing()\n",
    "X = pd.DataFrame(california_housing.data, columns=california_housing.feature_names)\n",
    "y = pd.Series(california_housing.target, name='MedHouseVal')"
   ]
  },
  {
   "cell_type": "markdown",
   "id": "c48b6461",
   "metadata": {},
   "source": [
    "# 3) Split the Data"
   ]
  },
  {
   "cell_type": "code",
   "execution_count": null,
   "id": "9127ef17",
   "metadata": {},
   "outputs": [],
   "source": [
    "# TODO: Use `train_test_split` function and split the data 80, 20 ratio. Assign the result to X_train, X_test, y_train, y_test\n"
   ]
  },
  {
   "cell_type": "markdown",
   "id": "ab632567",
   "metadata": {},
   "source": [
    "# 4) Initialize and Train the Algorithms"
   ]
  },
  {
   "cell_type": "code",
   "execution_count": null,
   "id": "d14903eb",
   "metadata": {},
   "outputs": [],
   "source": [
    "# Train a Linear Regression model\n",
    "lr_model = LinearRegression()\n",
    "lr_model.fit(X_train, y_train)"
   ]
  },
  {
   "cell_type": "code",
   "execution_count": null,
   "id": "e3c010b0",
   "metadata": {},
   "outputs": [],
   "source": [
    "# TODO: Train a Random Forest Regression algorithm. pass two parameters n_estimators with a value of 100 and random_state with a value 42.\n",
    "# TODO: Assign the result to rf_model. Fit the training data similar to linear regression algorithm.\n"
   ]
  },
  {
   "cell_type": "code",
   "execution_count": null,
   "id": "e3919596",
   "metadata": {},
   "outputs": [],
   "source": [
    "# TODO: Train a Ridge algorithm. This algorithm doesnt require any parameters.\n",
    "# TODO: Assign the result to ridge. Fit the training data similar to linear regression algorithm.\n"
   ]
  },
  {
   "cell_type": "markdown",
   "id": "6136257c",
   "metadata": {},
   "source": [
    "# 5) Make Predictions"
   ]
  },
  {
   "cell_type": "code",
   "execution_count": null,
   "id": "722e4250",
   "metadata": {},
   "outputs": [],
   "source": [
    "# Make predictions on the testing set\n",
    "lr_predictions = lr_model.predict(X_test)"
   ]
  },
  {
   "cell_type": "code",
   "execution_count": null,
   "id": "6d66a018",
   "metadata": {},
   "outputs": [],
   "source": [
    "# TODO: Make predictions on the random forest regression model and ridge model. Assign the predictions to `rf_predictions` and `ridge_predictions`\n"
   ]
  },
  {
   "cell_type": "markdown",
   "id": "1b7033e3",
   "metadata": {},
   "source": [
    "# 6) Evaluate the Model"
   ]
  },
  {
   "cell_type": "code",
   "execution_count": null,
   "id": "3bd9b971",
   "metadata": {},
   "outputs": [],
   "source": [
    "# Evaluate the performance of all the models\n",
    "lr_mae = mean_absolute_error(y_test, lr_predictions)\n",
    "lr_r2 = r2_score(y_test, lr_predictions)\n",
    "lr_rme = root_mean_squared_error(y_test, lr_predictions)\n",
    "\n",
    "#TODO: In the same fashion, fetch MAE (mean absolute error), R2 Score and RMSE (Root mean squared error) for the remaining two models.\n"
   ]
  },
  {
   "cell_type": "markdown",
   "id": "3685139a",
   "metadata": {},
   "source": [
    "# 7) Validate the Output"
   ]
  },
  {
   "cell_type": "code",
   "execution_count": null,
   "id": "51d84660",
   "metadata": {},
   "outputs": [],
   "source": [
    "print(\"Linear Regression:\")\n",
    "print(f\"Mean Absolute Error: {lr_mae}\")\n",
    "print(f\"R-squared: {lr_r2}\")\n",
    "print(f\"Root Mean Squared Error: {lr_rme}\")\n",
    "\n",
    "print(\"\\nRandom Forest Regression:\")\n",
    "print(f\"Mean Absolute Error: {rf_mae}\")\n",
    "print(f\"R-squared: {rf_r2}\")\n",
    "print(f\"Root Mean Squared Error: {rf_rme}\")\n",
    "\n",
    "print(\"\\nRidge Regression:\")\n",
    "print(f\"Mean Absolute Error: {ri_mae}\")\n",
    "print(f\"R-squared: {ri_r2}\")\n",
    "print(f\"Root Mean Squared Error: {ri_rme}\")"
   ]
  },
  {
   "cell_type": "code",
   "execution_count": null,
   "id": "18a83310",
   "metadata": {},
   "outputs": [],
   "source": []
  }
 ],
 "metadata": {
  "kernelspec": {
   "display_name": "conda_tensorflow2_p310",
   "language": "python",
   "name": "conda_tensorflow2_p310"
  },
  "language_info": {
   "codemirror_mode": {
    "name": "ipython",
    "version": 3
   },
   "file_extension": ".py",
   "mimetype": "text/x-python",
   "name": "python",
   "nbconvert_exporter": "python",
   "pygments_lexer": "ipython3",
   "version": "3.10.14"
  }
 },
 "nbformat": 4,
 "nbformat_minor": 5
}
