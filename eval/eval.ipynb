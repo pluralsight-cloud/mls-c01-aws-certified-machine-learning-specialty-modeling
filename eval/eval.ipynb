{
 "cells": [
  {
   "cell_type": "markdown",
   "metadata": {},
   "source": [
    "![A Cloud Guru](acg_logo.png)\n",
    "<hr/>"
   ]
  },
  {
   "cell_type": "markdown",
   "metadata": {
    "id": "YjXARld2mkGH"
   },
   "source": [
    "<center><h1>Hyperparameter Tuning Job Created Using Amazon SageMaker</h1></center>"
   ]
  },
  {
   "cell_type": "markdown",
   "metadata": {},
   "source": [
    "# Introduction\n",
    "\n",
    "In this lab, you will learn how to import the iris dataset, split it into training and validation data, upload them to S3 bucket, fetch the lienar learner algorithm, initialize the estimator object, and automatically tune the hyperparameters using Amazon SageMaker's Automatic Model Tuning (AMT)."
   ]
  },
  {
   "cell_type": "markdown",
   "metadata": {},
   "source": [
    "# How to Use This Lab\n",
    "\n",
    "Most of the code is provided for you in this lab as our solution to the tasks presented. Some of the cells are left empty with a #TODO header and its your turn to fill in the empty code. You can always use our lab guide if you are stuck."
   ]
  },
  {
   "cell_type": "markdown",
   "metadata": {},
   "source": [
    "# 1) Install dependencies and import the required libraries"
   ]
  },
  {
   "cell_type": "code",
   "execution_count": 1,
   "metadata": {
    "id": "3MRfpjxBmeT8"
   },
   "outputs": [
    {
     "name": "stdout",
     "output_type": "stream",
     "text": [
      "Requirement already satisfied: sagemaker in /home/ec2-user/anaconda3/envs/tensorflow2_p310/lib/python3.10/site-packages (2.224.4)\n",
      "Collecting sagemaker\n",
      "  Downloading sagemaker-2.227.0-py3-none-any.whl.metadata (15 kB)\n",
      "Collecting smdebug\n",
      "  Downloading smdebug-1.0.34-py2.py3-none-any.whl.metadata (1.8 kB)\n",
      "Requirement already satisfied: numpy==1.26.4 in /home/ec2-user/anaconda3/envs/tensorflow2_p310/lib/python3.10/site-packages (1.26.4)\n",
      "Requirement already satisfied: shap in /home/ec2-user/anaconda3/envs/tensorflow2_p310/lib/python3.10/site-packages (0.45.1)\n",
      "Collecting shap\n",
      "  Downloading shap-0.46.0-cp310-cp310-manylinux_2_12_x86_64.manylinux2010_x86_64.manylinux_2_17_x86_64.manylinux2014_x86_64.whl.metadata (24 kB)\n",
      "Requirement already satisfied: attrs<24,>=23.1.0 in /home/ec2-user/anaconda3/envs/tensorflow2_p310/lib/python3.10/site-packages (from sagemaker) (23.2.0)\n",
      "Requirement already satisfied: boto3<2.0,>=1.34.142 in /home/ec2-user/anaconda3/envs/tensorflow2_p310/lib/python3.10/site-packages (from sagemaker) (1.34.142)\n",
      "Requirement already satisfied: cloudpickle==2.2.1 in /home/ec2-user/anaconda3/envs/tensorflow2_p310/lib/python3.10/site-packages (from sagemaker) (2.2.1)\n",
      "Requirement already satisfied: google-pasta in /home/ec2-user/anaconda3/envs/tensorflow2_p310/lib/python3.10/site-packages (from sagemaker) (0.2.0)\n",
      "Requirement already satisfied: protobuf<5.0,>=3.12 in /home/ec2-user/anaconda3/envs/tensorflow2_p310/lib/python3.10/site-packages (from sagemaker) (4.25.3)\n",
      "Requirement already satisfied: smdebug-rulesconfig==1.0.1 in /home/ec2-user/anaconda3/envs/tensorflow2_p310/lib/python3.10/site-packages (from sagemaker) (1.0.1)\n",
      "Requirement already satisfied: importlib-metadata<7.0,>=1.4.0 in /home/ec2-user/anaconda3/envs/tensorflow2_p310/lib/python3.10/site-packages (from sagemaker) (6.11.0)\n",
      "Requirement already satisfied: packaging>=20.0 in /home/ec2-user/anaconda3/envs/tensorflow2_p310/lib/python3.10/site-packages (from sagemaker) (21.3)\n",
      "Requirement already satisfied: pandas in /home/ec2-user/anaconda3/envs/tensorflow2_p310/lib/python3.10/site-packages (from sagemaker) (1.5.3)\n",
      "Requirement already satisfied: pathos in /home/ec2-user/anaconda3/envs/tensorflow2_p310/lib/python3.10/site-packages (from sagemaker) (0.3.2)\n",
      "Requirement already satisfied: schema in /home/ec2-user/anaconda3/envs/tensorflow2_p310/lib/python3.10/site-packages (from sagemaker) (0.7.7)\n",
      "Requirement already satisfied: PyYAML~=6.0 in /home/ec2-user/anaconda3/envs/tensorflow2_p310/lib/python3.10/site-packages (from sagemaker) (6.0.1)\n",
      "Requirement already satisfied: jsonschema in /home/ec2-user/anaconda3/envs/tensorflow2_p310/lib/python3.10/site-packages (from sagemaker) (4.22.0)\n",
      "Requirement already satisfied: platformdirs in /home/ec2-user/anaconda3/envs/tensorflow2_p310/lib/python3.10/site-packages (from sagemaker) (4.2.2)\n",
      "Requirement already satisfied: tblib<4,>=1.7.0 in /home/ec2-user/anaconda3/envs/tensorflow2_p310/lib/python3.10/site-packages (from sagemaker) (3.0.0)\n",
      "Requirement already satisfied: urllib3<3.0.0,>=1.26.8 in /home/ec2-user/anaconda3/envs/tensorflow2_p310/lib/python3.10/site-packages (from sagemaker) (2.2.1)\n",
      "Requirement already satisfied: requests in /home/ec2-user/anaconda3/envs/tensorflow2_p310/lib/python3.10/site-packages (from sagemaker) (2.32.3)\n",
      "Requirement already satisfied: docker in /home/ec2-user/anaconda3/envs/tensorflow2_p310/lib/python3.10/site-packages (from sagemaker) (7.1.0)\n",
      "Requirement already satisfied: tqdm in /home/ec2-user/anaconda3/envs/tensorflow2_p310/lib/python3.10/site-packages (from sagemaker) (4.66.4)\n",
      "Requirement already satisfied: psutil in /home/ec2-user/anaconda3/envs/tensorflow2_p310/lib/python3.10/site-packages (from sagemaker) (5.9.8)\n",
      "Collecting protobuf<5.0,>=3.12 (from sagemaker)\n",
      "  Downloading protobuf-3.20.3-cp310-cp310-manylinux_2_12_x86_64.manylinux2010_x86_64.whl.metadata (679 bytes)\n",
      "Collecting pyinstrument==3.4.2 (from smdebug)\n",
      "  Downloading pyinstrument-3.4.2-py2.py3-none-any.whl.metadata (22 kB)\n",
      "Collecting pyinstrument-cext>=0.2.2 (from pyinstrument==3.4.2->smdebug)\n",
      "  Downloading pyinstrument_cext-0.2.4.tar.gz (4.8 kB)\n",
      "  Preparing metadata (setup.py) ... \u001b[?25ldone\n",
      "\u001b[?25hRequirement already satisfied: scipy in /home/ec2-user/anaconda3/envs/tensorflow2_p310/lib/python3.10/site-packages (from shap) (1.13.1)\n",
      "Requirement already satisfied: scikit-learn in /home/ec2-user/anaconda3/envs/tensorflow2_p310/lib/python3.10/site-packages (from shap) (1.5.0)\n",
      "Requirement already satisfied: slicer==0.0.8 in /home/ec2-user/anaconda3/envs/tensorflow2_p310/lib/python3.10/site-packages (from shap) (0.0.8)\n",
      "Requirement already satisfied: numba in /home/ec2-user/anaconda3/envs/tensorflow2_p310/lib/python3.10/site-packages (from shap) (0.59.1)\n",
      "Requirement already satisfied: botocore<1.35.0,>=1.34.142 in /home/ec2-user/anaconda3/envs/tensorflow2_p310/lib/python3.10/site-packages (from boto3<2.0,>=1.34.142->sagemaker) (1.34.142)\n",
      "Requirement already satisfied: jmespath<2.0.0,>=0.7.1 in /home/ec2-user/anaconda3/envs/tensorflow2_p310/lib/python3.10/site-packages (from boto3<2.0,>=1.34.142->sagemaker) (1.0.1)\n",
      "Requirement already satisfied: s3transfer<0.11.0,>=0.10.0 in /home/ec2-user/anaconda3/envs/tensorflow2_p310/lib/python3.10/site-packages (from boto3<2.0,>=1.34.142->sagemaker) (0.10.1)\n",
      "Requirement already satisfied: zipp>=0.5 in /home/ec2-user/anaconda3/envs/tensorflow2_p310/lib/python3.10/site-packages (from importlib-metadata<7.0,>=1.4.0->sagemaker) (3.17.0)\n",
      "Requirement already satisfied: pyparsing!=3.0.5,>=2.0.2 in /home/ec2-user/anaconda3/envs/tensorflow2_p310/lib/python3.10/site-packages (from packaging>=20.0->sagemaker) (3.1.2)\n",
      "Requirement already satisfied: charset-normalizer<4,>=2 in /home/ec2-user/anaconda3/envs/tensorflow2_p310/lib/python3.10/site-packages (from requests->sagemaker) (3.3.2)\n",
      "Requirement already satisfied: idna<4,>=2.5 in /home/ec2-user/anaconda3/envs/tensorflow2_p310/lib/python3.10/site-packages (from requests->sagemaker) (3.7)\n",
      "Requirement already satisfied: certifi>=2017.4.17 in /home/ec2-user/anaconda3/envs/tensorflow2_p310/lib/python3.10/site-packages (from requests->sagemaker) (2024.2.2)\n",
      "Requirement already satisfied: six in /home/ec2-user/anaconda3/envs/tensorflow2_p310/lib/python3.10/site-packages (from google-pasta->sagemaker) (1.16.0)\n",
      "Requirement already satisfied: jsonschema-specifications>=2023.03.6 in /home/ec2-user/anaconda3/envs/tensorflow2_p310/lib/python3.10/site-packages (from jsonschema->sagemaker) (2023.12.1)\n",
      "Requirement already satisfied: referencing>=0.28.4 in /home/ec2-user/anaconda3/envs/tensorflow2_p310/lib/python3.10/site-packages (from jsonschema->sagemaker) (0.35.1)\n",
      "Requirement already satisfied: rpds-py>=0.7.1 in /home/ec2-user/anaconda3/envs/tensorflow2_p310/lib/python3.10/site-packages (from jsonschema->sagemaker) (0.18.1)\n",
      "Requirement already satisfied: llvmlite<0.43,>=0.42.0dev0 in /home/ec2-user/anaconda3/envs/tensorflow2_p310/lib/python3.10/site-packages (from numba->shap) (0.42.0)\n",
      "Requirement already satisfied: python-dateutil>=2.8.1 in /home/ec2-user/anaconda3/envs/tensorflow2_p310/lib/python3.10/site-packages (from pandas->sagemaker) (2.9.0)\n",
      "Requirement already satisfied: pytz>=2020.1 in /home/ec2-user/anaconda3/envs/tensorflow2_p310/lib/python3.10/site-packages (from pandas->sagemaker) (2024.1)\n",
      "Requirement already satisfied: ppft>=1.7.6.8 in /home/ec2-user/anaconda3/envs/tensorflow2_p310/lib/python3.10/site-packages (from pathos->sagemaker) (1.7.6.8)\n",
      "Requirement already satisfied: dill>=0.3.8 in /home/ec2-user/anaconda3/envs/tensorflow2_p310/lib/python3.10/site-packages (from pathos->sagemaker) (0.3.8)\n",
      "Requirement already satisfied: pox>=0.3.4 in /home/ec2-user/anaconda3/envs/tensorflow2_p310/lib/python3.10/site-packages (from pathos->sagemaker) (0.3.4)\n",
      "Requirement already satisfied: multiprocess>=0.70.16 in /home/ec2-user/anaconda3/envs/tensorflow2_p310/lib/python3.10/site-packages (from pathos->sagemaker) (0.70.16)\n",
      "Requirement already satisfied: joblib>=1.2.0 in /home/ec2-user/anaconda3/envs/tensorflow2_p310/lib/python3.10/site-packages (from scikit-learn->shap) (1.4.2)\n",
      "Requirement already satisfied: threadpoolctl>=3.1.0 in /home/ec2-user/anaconda3/envs/tensorflow2_p310/lib/python3.10/site-packages (from scikit-learn->shap) (3.5.0)\n",
      "Downloading sagemaker-2.227.0-py3-none-any.whl (1.5 MB)\n",
      "\u001b[2K   \u001b[90m━━━━━━━━━━━━━━━━━━━━━━━━━━━━━━━━━━━━━━━━\u001b[0m \u001b[32m1.5/1.5 MB\u001b[0m \u001b[31m14.0 MB/s\u001b[0m eta \u001b[36m0:00:00\u001b[0m:00:01\u001b[0m\n",
      "\u001b[?25hDownloading smdebug-1.0.34-py2.py3-none-any.whl (280 kB)\n",
      "\u001b[2K   \u001b[90m━━━━━━━━━━━━━━━━━━━━━━━━━━━━━━━━━━━━━━━━\u001b[0m \u001b[32m280.1/280.1 kB\u001b[0m \u001b[31m6.4 MB/s\u001b[0m eta \u001b[36m0:00:00\u001b[0m:00:01\u001b[0m\n",
      "\u001b[?25hDownloading pyinstrument-3.4.2-py2.py3-none-any.whl (83 kB)\n",
      "\u001b[2K   \u001b[90m━━━━━━━━━━━━━━━━━━━━━━━━━━━━━━━━━━━━━━━━\u001b[0m \u001b[32m83.3/83.3 kB\u001b[0m \u001b[31m1.5 MB/s\u001b[0m eta \u001b[36m0:00:00\u001b[0m:00:01\u001b[0m\n",
      "\u001b[?25hDownloading shap-0.46.0-cp310-cp310-manylinux_2_12_x86_64.manylinux2010_x86_64.manylinux_2_17_x86_64.manylinux2014_x86_64.whl (540 kB)\n",
      "\u001b[2K   \u001b[90m━━━━━━━━━━━━━━━━━━━━━━━━━━━━━━━━━━━━━━━━\u001b[0m \u001b[32m540.1/540.1 kB\u001b[0m \u001b[31m46.7 MB/s\u001b[0m eta \u001b[36m0:00:00\u001b[0m\n",
      "\u001b[?25hDownloading protobuf-3.20.3-cp310-cp310-manylinux_2_12_x86_64.manylinux2010_x86_64.whl (1.1 MB)\n",
      "\u001b[2K   \u001b[90m━━━━━━━━━━━━━━━━━━━━━━━━━━━━━━━━━━━━━━━━\u001b[0m \u001b[32m1.1/1.1 MB\u001b[0m \u001b[31m10.3 MB/s\u001b[0m eta \u001b[36m0:00:00\u001b[0m:00:01\u001b[0m\n",
      "\u001b[?25hBuilding wheels for collected packages: pyinstrument-cext\n",
      "  Building wheel for pyinstrument-cext (setup.py) ... \u001b[?25ldone\n",
      "\u001b[?25h  Created wheel for pyinstrument-cext: filename=pyinstrument_cext-0.2.4-cp310-cp310-linux_x86_64.whl size=6303 sha256=1d6b02fe497ecd39118e799e74f153d0589d79e5024ba5ed68a87c896f8c29b1\n",
      "  Stored in directory: /home/ec2-user/.cache/pip/wheels/0f/8b/7a/5f7fd1dd6d3cbb3d350d4c832c5e2f962687749f6d67d573a6\n",
      "Successfully built pyinstrument-cext\n",
      "Installing collected packages: pyinstrument-cext, pyinstrument, protobuf, shap, smdebug, sagemaker\n",
      "  Attempting uninstall: protobuf\n",
      "    Found existing installation: protobuf 4.25.3\n",
      "    Uninstalling protobuf-4.25.3:\n",
      "      Successfully uninstalled protobuf-4.25.3\n",
      "  Attempting uninstall: shap\n",
      "    Found existing installation: shap 0.45.1\n",
      "    Uninstalling shap-0.45.1:\n",
      "      Successfully uninstalled shap-0.45.1\n",
      "  Attempting uninstall: sagemaker\n",
      "    Found existing installation: sagemaker 2.224.4\n",
      "    Uninstalling sagemaker-2.224.4:\n",
      "      Successfully uninstalled sagemaker-2.224.4\n",
      "Successfully installed protobuf-3.20.3 pyinstrument-3.4.2 pyinstrument-cext-0.2.4 sagemaker-2.227.0 shap-0.46.0 smdebug-1.0.34\n"
     ]
    }
   ],
   "source": [
    "# Install Sagemaker\n",
    "!pip install -U sagemaker smdebug numpy==1.26.4 shap"
   ]
  },
  {
   "cell_type": "markdown",
   "metadata": {},
   "source": [
    "1. We will use the iris dataset as our input data. \n",
    "2. The S3 bucket that you want to use for training data must be within the same region as the Notebook Instance.\n",
    "3. The IAM role arn is used to give training and hosting access to your data. See the documentation for how to create these. Note, if more than one role is required for notebook instances, training, and/or hosting, please replace the boto regexp with a the appropriate full IAM role arn string(s)."
   ]
  },
  {
   "cell_type": "code",
   "execution_count": 2,
   "metadata": {},
   "outputs": [
    {
     "name": "stdout",
     "output_type": "stream",
     "text": [
      "sagemaker.config INFO - Not applying SDK defaults from location: /etc/xdg/sagemaker/config.yaml\n",
      "sagemaker.config INFO - Not applying SDK defaults from location: /home/ec2-user/.config/sagemaker/config.yaml\n"
     ]
    },
    {
     "name": "stderr",
     "output_type": "stream",
     "text": [
      "Matplotlib is building the font cache; this may take a moment.\n"
     ]
    }
   ],
   "source": [
    "import sagemaker\n",
    "import boto3\n",
    "from sagemaker import get_execution_role\n",
    "from sagemaker.inputs import TrainingInput\n",
    "import pandas as pd\n",
    "import shap\n",
    "from sklearn.model_selection import train_test_split\n",
    "from sagemaker.debugger import Rule, DebuggerHookConfig, CollectionConfig, rule_configs\n",
    "\n",
    "# Initialize the SageMaker session\n",
    "sagemaker_session = sagemaker.Session()\n",
    "\n",
    "# Define the S3 bucket and prefix to store data\n",
    "output_bucket = sagemaker.Session().default_bucket()\n",
    "output_prefix = 'sagemaker/xgboost-debugger'"
   ]
  },
  {
   "cell_type": "code",
   "execution_count": 3,
   "metadata": {},
   "outputs": [],
   "source": [
    "#TODO: Fetch the IAM role using the get_execution_role function and assign the value to a variable `role`\n",
    "# Get the IAM role\n",
    "role = get_execution_role()"
   ]
  },
  {
   "cell_type": "markdown",
   "metadata": {},
   "source": [
    "# 2) Download the data and upload them to S3 bucket"
   ]
  },
  {
   "cell_type": "markdown",
   "metadata": {},
   "source": [
    "1. load_iris function is used to downlaod the input data\n",
    "2. The data is split into training and validatin data in the ration of 80 - 20\n",
    "3. The data is saved under 'train.csv' and 'validation.csv'"
   ]
  },
  {
   "cell_type": "code",
   "execution_count": 4,
   "metadata": {},
   "outputs": [],
   "source": [
    "import shap\n",
    "\n",
    "X, y = shap.datasets.adult()"
   ]
  },
  {
   "cell_type": "code",
   "execution_count": 5,
   "metadata": {},
   "outputs": [],
   "source": [
    "#TODO: Use the `train_test_split` function and the split the data in a 80 - 20 ratio. \n",
    "#TODO: Assign the values to variables `train_data` and `validation_data` \n",
    "# Split into training and validation sets\n",
    "X_train, X_test, y_train, y_test = train_test_split(X, y, test_size=0.2, random_state=7)\n"
   ]
  },
  {
   "cell_type": "code",
   "execution_count": 6,
   "metadata": {},
   "outputs": [],
   "source": [
    "train_data = pd.concat(\n",
    "    [pd.Series(y_train, index=X_train.index, name=\"Train data\", dtype=int), X_train],\n",
    "    axis=1,\n",
    ")\n",
    "validation_data = pd.concat(\n",
    "    [pd.Series(y_test, index=X_test.index, name=\"Validation data\", dtype=int), X_test],\n",
    "    axis=1,\n",
    ")"
   ]
  },
  {
   "cell_type": "code",
   "execution_count": 7,
   "metadata": {},
   "outputs": [],
   "source": [
    "# Save to CSV\n",
    "train_data.to_csv('train.csv', index=False, header=False)\n",
    "validation_data.to_csv('validation.csv', index=False, header=False)"
   ]
  },
  {
   "cell_type": "markdown",
   "metadata": {},
   "source": [
    "Let's use the upload_file function and upload the .csv files to the S3 buckets"
   ]
  },
  {
   "cell_type": "code",
   "execution_count": 8,
   "metadata": {},
   "outputs": [],
   "source": [
    "# Upload data to S3\n",
    "s3 = boto3.client('s3')\n",
    "s3.upload_file('train.csv', output_bucket, f'{output_prefix}/train/train.csv')"
   ]
  },
  {
   "cell_type": "code",
   "execution_count": 9,
   "metadata": {},
   "outputs": [],
   "source": [
    "#TODO: Using the strategy we followed to upload the training data as shown above, please upload the validation data to the output bucket.\n",
    "s3.upload_file('validation.csv', output_bucket, f'{output_prefix}/validation/validation.csv')"
   ]
  },
  {
   "cell_type": "markdown",
   "metadata": {},
   "source": [
    "# 3) Set up training and validation data"
   ]
  },
  {
   "cell_type": "markdown",
   "metadata": {},
   "source": [
    "Create three separate variables that is dynamically constructed which will be used as one of the input parameters while generating training inputs"
   ]
  },
  {
   "cell_type": "code",
   "execution_count": 10,
   "metadata": {},
   "outputs": [
    {
     "name": "stdout",
     "output_type": "stream",
     "text": [
      "training files will be taken from: s3://sagemaker-us-east-1-247900453419/sagemaker/xgboost-debugger/train\n",
      "validation files will be taken from: s3://sagemaker-us-east-1-247900453419/sagemaker/xgboost-debugger/validation\n",
      "training artifacts output location: s3://sagemaker-us-east-1-247900453419/sagemaker/xgboost-debugger/output\n"
     ]
    }
   ],
   "source": [
    "# creating the inputs for the fit() function with the training and validation location\n",
    "s3_train_data = f\"s3://{output_bucket}/{output_prefix}/train\"\n",
    "print(f\"training files will be taken from: {s3_train_data}\")\n",
    "s3_validation_data = f\"s3://{output_bucket}/{output_prefix}/validation\"\n",
    "print(f\"validation files will be taken from: {s3_validation_data}\")\n",
    "output_location = f\"s3://{output_bucket}/{output_prefix}/output\"\n",
    "print(f\"training artifacts output location: {output_location}\")"
   ]
  },
  {
   "cell_type": "markdown",
   "metadata": {},
   "source": [
    "Let's create the sagemaker.session.s3_input objects from our data channels. Note that we are using the content_type as text/csv. We use two channels here one for training and the second one for validation."
   ]
  },
  {
   "cell_type": "code",
   "execution_count": 11,
   "metadata": {},
   "outputs": [],
   "source": [
    "# generating the session.s3_input() format for fit() accepted by the sdk\n",
    "train_data = sagemaker.inputs.TrainingInput(\n",
    "    s3_train_data,\n",
    "    distribution=\"FullyReplicated\",\n",
    "    content_type=\"text/csv\",\n",
    "    s3_data_type=\"S3Prefix\",\n",
    "    record_wrapping=None,\n",
    "    compression=None,\n",
    ")"
   ]
  },
  {
   "cell_type": "code",
   "execution_count": 12,
   "metadata": {},
   "outputs": [],
   "source": [
    "#TODO: Following the same strategy as shown above, please set up a training input for validation data.\n",
    "#TODO: Name it as `validation_data`\n",
    "validation_data = sagemaker.inputs.TrainingInput(\n",
    "    s3_validation_data,\n",
    "    distribution=\"FullyReplicated\",\n",
    "    content_type=\"text/csv\",\n",
    "    s3_data_type=\"S3Prefix\",\n",
    "    record_wrapping=None,\n",
    "    compression=None,\n",
    ")"
   ]
  },
  {
   "cell_type": "markdown",
   "metadata": {},
   "source": [
    "# 4) Fetch the algorithm and initialize estimator"
   ]
  },
  {
   "cell_type": "markdown",
   "metadata": {},
   "source": [
    "Let's retrieve the image for the Linear Learner Algorithm according to the region."
   ]
  },
  {
   "cell_type": "code",
   "execution_count": 13,
   "metadata": {},
   "outputs": [
    {
     "name": "stdout",
     "output_type": "stream",
     "text": [
      "683313688378.dkr.ecr.us-east-1.amazonaws.com/sagemaker-xgboost:1.2-1\n"
     ]
    }
   ],
   "source": [
    "# getting the linear learner image according to the region\n",
    "from sagemaker.image_uris import retrieve\n",
    "\n",
    "container = retrieve('xgboost', boto3.Session().region_name, version='1.2-1')\n",
    "print(container)\n",
    "deploy_amt_model = True"
   ]
  },
  {
   "cell_type": "markdown",
   "metadata": {},
   "source": [
    "Then we create an estimator from the SageMaker Python SDK using the Linear Learner container image and we setup the training parameters "
   ]
  },
  {
   "cell_type": "code",
   "execution_count": 14,
   "metadata": {},
   "outputs": [],
   "source": [
    "hyperparameters = {\n",
    "    \"max_depth\": \"5\",\n",
    "    \"eta\": \"0.2\",\n",
    "    \"gamma\": \"4\",\n",
    "    \"min_child_weight\": \"6\",\n",
    "    \"subsample\": \"0.7\",\n",
    "    \"objective\": \"binary:logistic\",\n",
    "    \"num_round\": \"51\",\n",
    "}\n",
    "\n",
    "save_interval = 5"
   ]
  },
  {
   "cell_type": "code",
   "execution_count": 15,
   "metadata": {},
   "outputs": [
    {
     "name": "stdout",
     "output_type": "stream",
     "text": [
      "Training job xgboost-iris-debugger-20240806-16-35-04\n"
     ]
    }
   ],
   "source": [
    "from sagemaker.debugger import rule_configs, Rule, DebuggerHookConfig, CollectionConfig\n",
    "from sagemaker.estimator import Estimator\n",
    "from time import gmtime, strftime\n",
    "\n",
    "job_name = \"xgboost-iris-debugger-\" + strftime(\"%Y%m%d-%H-%M-%S\", gmtime())\n",
    "print(\"Training job\", job_name)\n",
    "\n",
    "xgboost_estimator = Estimator(\n",
    "    role=role,\n",
    "    base_job_name=job_name,\n",
    "    instance_count=1,\n",
    "    instance_type=\"ml.m5.large\",\n",
    "    image_uri=container,\n",
    "    hyperparameters=hyperparameters,\n",
    "    max_run=1800,\n",
    "    debugger_hook_config=DebuggerHookConfig(\n",
    "        s3_output_path=output_location,  # Required\n",
    "        collection_configs=[\n",
    "            CollectionConfig(name=\"metrics\", parameters={\"save_interval\": str(save_interval)}),\n",
    "            CollectionConfig(\n",
    "                name=\"feature_importance\",\n",
    "                parameters={\"save_interval\": str(save_interval)},\n",
    "            ),            \n",
    "        ],\n",
    "    ),\n",
    "    rules=[\n",
    "        Rule.sagemaker(\n",
    "            rule_configs.loss_not_decreasing(),\n",
    "            rule_parameters={\n",
    "                \"collection_names\": \"metrics\",\n",
    "                \"num_steps\": str(save_interval * 2),\n",
    "            },\n",
    "        ),\n",
    "    ],\n",
    ")"
   ]
  },
  {
   "cell_type": "code",
   "execution_count": 16,
   "metadata": {},
   "outputs": [
    {
     "name": "stderr",
     "output_type": "stream",
     "text": [
      "INFO:sagemaker:Creating training-job with name: xgboost-iris-debugger-20240806-16-35-04-2024-08-06-16-35-13-945\n"
     ]
    }
   ],
   "source": [
    "xgboost_estimator.fit({\"train\": train_data, \"validation\": validation_data}, wait=False)"
   ]
  },
  {
   "cell_type": "code",
   "execution_count": 18,
   "metadata": {},
   "outputs": [
    {
     "name": "stdout",
     "output_type": "stream",
     "text": [
      "Training job name: xgboost-iris-debugger-20240806-16-35-04-2024-08-06-16-35-13-945\n"
     ]
    }
   ],
   "source": [
    "job_name = xgboost_estimator.latest_training_job.name\n",
    "print(\"Training job name: {}\".format(job_name))"
   ]
  },
  {
   "cell_type": "code",
   "execution_count": 21,
   "metadata": {},
   "outputs": [
    {
     "name": "stdout",
     "output_type": "stream",
     "text": [
      "Current job status: [PrimaryStatus: InProgress, SecondaryStatus: Downloading] | LossNotDecreasing Rule Evaluation Status: InProgress\n",
      "Current job status: [PrimaryStatus: InProgress, SecondaryStatus: Downloading] | LossNotDecreasing Rule Evaluation Status: InProgress\n",
      "Current job status: [PrimaryStatus: InProgress, SecondaryStatus: Downloading] | LossNotDecreasing Rule Evaluation Status: InProgress\n",
      "Current job status: [PrimaryStatus: InProgress, SecondaryStatus: Uploading] | LossNotDecreasing Rule Evaluation Status: InProgress\n",
      "Current job status: [PrimaryStatus: Completed, SecondaryStatus: Completed] | LossNotDecreasing Rule Evaluation Status: InProgress\n"
     ]
    }
   ],
   "source": [
    "import time\n",
    "\n",
    "client = xgboost_estimator.sagemaker_session.sagemaker_client\n",
    "description = client.describe_training_job(TrainingJobName=job_name)\n",
    "if description[\"TrainingJobStatus\"] != \"Completed\":\n",
    "    while description[\"SecondaryStatus\"] not in {\"Training\", \"Stopped\", \"Completed\", \"Failed\"}:\n",
    "        description = client.describe_training_job(TrainingJobName=job_name)\n",
    "        primary_status = description[\"TrainingJobStatus\"]\n",
    "        secondary_status = description[\"SecondaryStatus\"]\n",
    "        print(\n",
    "            \"Current job status: [PrimaryStatus: {}, SecondaryStatus: {}] | {} Rule Evaluation Status: {}\".format(\n",
    "                primary_status,\n",
    "                secondary_status,\n",
    "                xgboost_estimator.latest_training_job.rule_job_summary()[0][\"RuleConfigurationName\"],\n",
    "                xgboost_estimator.latest_training_job.rule_job_summary()[0][\"RuleEvaluationStatus\"],\n",
    "            )\n",
    "        )\n",
    "        time.sleep(30)"
   ]
  },
  {
   "cell_type": "code",
   "execution_count": 22,
   "metadata": {},
   "outputs": [
    {
     "data": {
      "text/plain": [
       "[{'RuleConfigurationName': 'LossNotDecreasing',\n",
       "  'RuleEvaluationJobArn': 'arn:aws:sagemaker:us-east-1:247900453419:processing-job/xgboost-iris-debugger-2024-LossNotDecreasing-c42bf9df',\n",
       "  'RuleEvaluationStatus': 'InProgress',\n",
       "  'LastModifiedTime': datetime.datetime(2024, 8, 6, 16, 38, 42, 520000, tzinfo=tzlocal())}]"
      ]
     },
     "execution_count": 22,
     "metadata": {},
     "output_type": "execute_result"
    }
   ],
   "source": [
    "xgboost_estimator.latest_training_job.rule_job_summary()"
   ]
  },
  {
   "cell_type": "code",
   "execution_count": 23,
   "metadata": {},
   "outputs": [
    {
     "name": "stdout",
     "output_type": "stream",
     "text": [
      "[2024-08-06 16:40:36.444 ip-172-16-167-254.ec2.internal:15954 INFO utils.py:28] RULE_JOB_STOP_SIGNAL_FILENAME: None\n",
      "[2024-08-06 16:40:36.467 ip-172-16-167-254.ec2.internal:15954 INFO s3_trial.py:42] Loading trial debug-output at path s3://sagemaker-us-east-1-247900453419/sagemaker/xgboost-debugger/output/xgboost-iris-debugger-20240806-16-35-04-2024-08-06-16-35-13-945/debug-output\n"
     ]
    }
   ],
   "source": [
    "from smdebug.trials import create_trial\n",
    "\n",
    "s3_output_path = xgboost_estimator.latest_job_debugger_artifacts_path()\n",
    "trial = create_trial(s3_output_path)"
   ]
  },
  {
   "cell_type": "code",
   "execution_count": 24,
   "metadata": {},
   "outputs": [
    {
     "name": "stdout",
     "output_type": "stream",
     "text": [
      "[2024-08-06 16:40:48.658 ip-172-16-167-254.ec2.internal:15954 INFO trial.py:197] Training has ended, will refresh one final time in 1 sec.\n",
      "[2024-08-06 16:40:49.678 ip-172-16-167-254.ec2.internal:15954 INFO trial.py:210] Loaded all steps\n"
     ]
    },
    {
     "data": {
      "text/plain": [
       "['feature_importance/cover/f0',\n",
       " 'feature_importance/cover/f1',\n",
       " 'feature_importance/cover/f10',\n",
       " 'feature_importance/cover/f11',\n",
       " 'feature_importance/cover/f2',\n",
       " 'feature_importance/cover/f3',\n",
       " 'feature_importance/cover/f4',\n",
       " 'feature_importance/cover/f5',\n",
       " 'feature_importance/cover/f6',\n",
       " 'feature_importance/cover/f7',\n",
       " 'feature_importance/cover/f8',\n",
       " 'feature_importance/cover/f9',\n",
       " 'feature_importance/gain/f0',\n",
       " 'feature_importance/gain/f1',\n",
       " 'feature_importance/gain/f10',\n",
       " 'feature_importance/gain/f11',\n",
       " 'feature_importance/gain/f2',\n",
       " 'feature_importance/gain/f3',\n",
       " 'feature_importance/gain/f4',\n",
       " 'feature_importance/gain/f5',\n",
       " 'feature_importance/gain/f6',\n",
       " 'feature_importance/gain/f7',\n",
       " 'feature_importance/gain/f8',\n",
       " 'feature_importance/gain/f9',\n",
       " 'feature_importance/total_cover/f0',\n",
       " 'feature_importance/total_cover/f1',\n",
       " 'feature_importance/total_cover/f10',\n",
       " 'feature_importance/total_cover/f11',\n",
       " 'feature_importance/total_cover/f2',\n",
       " 'feature_importance/total_cover/f3',\n",
       " 'feature_importance/total_cover/f4',\n",
       " 'feature_importance/total_cover/f5',\n",
       " 'feature_importance/total_cover/f6',\n",
       " 'feature_importance/total_cover/f7',\n",
       " 'feature_importance/total_cover/f8',\n",
       " 'feature_importance/total_cover/f9',\n",
       " 'feature_importance/total_gain/f0',\n",
       " 'feature_importance/total_gain/f1',\n",
       " 'feature_importance/total_gain/f10',\n",
       " 'feature_importance/total_gain/f11',\n",
       " 'feature_importance/total_gain/f2',\n",
       " 'feature_importance/total_gain/f3',\n",
       " 'feature_importance/total_gain/f4',\n",
       " 'feature_importance/total_gain/f5',\n",
       " 'feature_importance/total_gain/f6',\n",
       " 'feature_importance/total_gain/f7',\n",
       " 'feature_importance/total_gain/f8',\n",
       " 'feature_importance/total_gain/f9',\n",
       " 'feature_importance/weight/f0',\n",
       " 'feature_importance/weight/f1',\n",
       " 'feature_importance/weight/f10',\n",
       " 'feature_importance/weight/f11',\n",
       " 'feature_importance/weight/f2',\n",
       " 'feature_importance/weight/f3',\n",
       " 'feature_importance/weight/f4',\n",
       " 'feature_importance/weight/f5',\n",
       " 'feature_importance/weight/f6',\n",
       " 'feature_importance/weight/f7',\n",
       " 'feature_importance/weight/f8',\n",
       " 'feature_importance/weight/f9',\n",
       " 'train-error',\n",
       " 'validation-error']"
      ]
     },
     "execution_count": 24,
     "metadata": {},
     "output_type": "execute_result"
    }
   ],
   "source": [
    "trial.tensor_names()"
   ]
  },
  {
   "cell_type": "code",
   "execution_count": null,
   "metadata": {},
   "outputs": [],
   "source": [
    "trial.tensor(\"metrics\").values()"
   ]
  },
  {
   "cell_type": "code",
   "execution_count": 29,
   "metadata": {},
   "outputs": [],
   "source": [
    "from itertools import islice\n",
    "import matplotlib.pyplot as plt\n",
    "import re\n",
    "\n",
    "MAX_PLOTS = 35\n",
    "\n",
    "\n",
    "def get_data(trial, tname):\n",
    "    \"\"\"\n",
    "    For the given tensor name, walks though all the iterations\n",
    "    for which you have data and fetches the values.\n",
    "    Returns the set of steps and the values.\n",
    "    \"\"\"\n",
    "    tensor = trial.tensor(tname)\n",
    "    steps = tensor.steps()\n",
    "    vals = [tensor.value(s) for s in steps]\n",
    "    return steps, vals\n",
    "\n",
    "feature_names = list(X.columns)\n",
    "def match_tensor_name_with_feature_name(tensor_name, feature_names=feature_names):\n",
    "    feature_tag = tensor_name.split(\"/\")\n",
    "    for ifeat, feature_name in enumerate(feature_names):\n",
    "        if feature_tag[-1] == \"f{}\".format(str(ifeat)):\n",
    "            return feature_name\n",
    "    return tensor_name\n",
    "\n",
    "\n",
    "def plot_collection(trial, collection_name, regex=\".*\", figsize=(8, 6)):\n",
    "    \"\"\"\n",
    "    Takes a `trial` and a collection name, and\n",
    "    plots all tensors that match the given regex.\n",
    "    \"\"\"\n",
    "    fig, ax = plt.subplots(figsize=figsize)\n",
    "    tensors = trial.collection(collection_name).tensor_names\n",
    "    matched_tensors = [t for t in tensors if re.match(regex, t)]\n",
    "    for tensor_name in islice(matched_tensors, MAX_PLOTS):\n",
    "        steps, data = get_data(trial, tensor_name)\n",
    "        ax.plot(steps, data, label=match_tensor_name_with_feature_name(tensor_name))\n",
    "\n",
    "    ax.legend(loc=\"center left\", bbox_to_anchor=(1, 0.5))\n",
    "    ax.set_xlabel(\"Iteration\")"
   ]
  },
  {
   "cell_type": "code",
   "execution_count": 30,
   "metadata": {},
   "outputs": [
    {
     "data": {
      "image/png": "[encoded data removed]",
      "text/plain": [
       "<Figure size 800x600 with 1 Axes>"
      ]
     },
     "metadata": {},
     "output_type": "display_data"
    }
   ],
   "source": [
    "plot_collection(trial, \"metrics\")"
   ]
  },
  {
   "cell_type": "code",
   "execution_count": 32,
   "metadata": {},
   "outputs": [
    {
     "data": {
      "text/plain": [
       "<class Collection: name=metrics>"
      ]
     },
     "execution_count": 32,
     "metadata": {},
     "output_type": "execute_result"
    }
   ],
   "source": [
    "trial.collection(\"metrics\")"
   ]
  },
  {
   "cell_type": "code",
   "execution_count": 34,
   "metadata": {},
   "outputs": [
    {
     "data": {
      "text/plain": [
       "'Click link below to view the XGBoost Training report'"
      ]
     },
     "metadata": {},
     "output_type": "display_data"
    },
    {
     "data": {
      "text/html": [
       "Path (<tt>CreateXgboostReport/xgboost_report.html</tt>) doesn't exist. It may still be in the process of being generated, or you may have the incorrect path."
      ],
      "text/plain": [
       "/home/ec2-user/SageMaker/CreateXgboostReport/xgboost_report.html"
      ]
     },
     "metadata": {},
     "output_type": "display_data"
    }
   ],
   "source": [
    "from IPython.display import FileLink, FileLinks\n",
    "display(\"Click link below to view the XGBoost Training report\",\n",
    "FileLink(\"CreateXgboostReport/xgboost_report.html\"))\n"
   ]
  },
  {
   "cell_type": "code",
   "execution_count": null,
   "metadata": {},
   "outputs": [],
   "source": [
    "%%time\n",
    "import boto3\n",
    "import sagemaker\n",
    "from time import gmtime, strftime\n",
    "\n",
    "sess = sagemaker.Session()\n",
    "\n",
    "job_name = \"xgboost-iris-debugger-\" + strftime(\"%Y%m%d-%H-%M-%S\", gmtime())\n",
    "print(\"Training job\", job_name)\n",
    "\n",
    "linear = sagemaker.estimator.Estimator(\n",
    "    container,\n",
    "    role,\n",
    "    instance_count=1,\n",
    "    instance_type=\"ml.m5.large\",\n",
    "    output_path=output_location,\n",
    "    sagemaker_session=sagemaker_session,\n",
    ")"
   ]
  },
  {
   "cell_type": "markdown",
   "metadata": {},
   "source": [
    "# 5) Define hyperparameter ranges and invoke tuning job"
   ]
  },
  {
   "cell_type": "markdown",
   "metadata": {},
   "source": [
    "Set the initial values for the hyperparameters"
   ]
  },
  {
   "cell_type": "code",
   "execution_count": null,
   "metadata": {},
   "outputs": [],
   "source": [
    "# TODO: Use the set_hyperparameters function and set the initial hyperparameters on linear learner\n",
    "# feature_dim=4, predictor_type='regressor', mini_batch_size=20"
   ]
  },
  {
   "cell_type": "markdown",
   "metadata": {},
   "source": [
    "Lets use the Continous parameter range and define the `learning rate` and `wd`"
   ]
  },
  {
   "cell_type": "code",
   "execution_count": null,
   "metadata": {},
   "outputs": [],
   "source": [
    "#TODO: Define the hyperparameter ranges\n",
    "#1. 'learning_rate': ContinuousParameter(0.01, 0.2)\n",
    "#2. 'wd': ContinuousParameter(0.0, 0.1)"
   ]
  },
  {
   "cell_type": "markdown",
   "metadata": {},
   "source": [
    "1. Instead of manually configuring our hyper parameter values and training with SageMaker Training, we'll use Amazon SageMaker Automatic Model Tuning.\n",
    "2. The code sample below shows you how to use the HyperParameterTuner. It accepts the hyperparameter ranges we set previously.\n",
    "3. Based on your capacity, you can adjust the `max_jobs` and `max_parallel_jobs`\n",
    "4. The goal of the tuning job is to minimize `rmse`\n",
    "5. The tuning job will take 8 to 10 minutes to complete."
   ]
  },
  {
   "cell_type": "code",
   "execution_count": null,
   "metadata": {},
   "outputs": [],
   "source": [
    "# Create a HyperparameterTuner object\n",
    "tuner = HyperparameterTuner(\n",
    "    estimator=linear,\n",
    "    objective_metric_name='validation:rmse',\n",
    "    hyperparameter_ranges=hyperparameter_ranges,\n",
    "    metric_definitions=[\n",
    "        {'Name': 'validation:rmse', 'Regex': 'validation rmse=([0-9\\\\.]+)'}\n",
    "    ],\n",
    "    max_jobs=4,\n",
    "    max_parallel_jobs=2,\n",
    "    objective_type='Minimize'\n",
    ")"
   ]
  },
  {
   "cell_type": "code",
   "execution_count": null,
   "metadata": {},
   "outputs": [],
   "source": [
    "#TODO: Initiate the tuner job by invoking the fit function.\n",
    "#2. Pass the train_data and validation_data as input parameters"
   ]
  },
  {
   "cell_type": "code",
   "execution_count": null,
   "metadata": {},
   "outputs": [],
   "source": []
  }
 ],
 "metadata": {
  "colab": {
   "provenance": []
  },
  "kernelspec": {
   "display_name": "conda_tensorflow2_p310",
   "language": "python",
   "name": "conda_tensorflow2_p310"
  },
  "language_info": {
   "codemirror_mode": {
    "name": "ipython",
    "version": 3
   },
   "file_extension": ".py",
   "mimetype": "text/x-python",
   "name": "python",
   "nbconvert_exporter": "python",
   "pygments_lexer": "ipython3",
   "version": "3.10.14"
  }
 },
 "nbformat": 4,
 "nbformat_minor": 1
}
